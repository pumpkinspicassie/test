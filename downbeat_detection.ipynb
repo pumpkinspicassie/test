{
  "nbformat": 4,
  "nbformat_minor": 0,
  "metadata": {
    "colab": {
      "provenance": []
    },
    "kernelspec": {
      "name": "python3",
      "display_name": "Python 3"
    },
    "language_info": {
      "name": "python"
    }
  },
  "cells": [
    {
      "cell_type": "code",
      "source": [
        "pip install aubio\n"
      ],
      "metadata": {
        "colab": {
          "base_uri": "https://localhost:8080/"
        },
        "id": "R7C7naCwcfW_",
        "outputId": "0781bbdb-74b4-4e79-d8e7-ca58e1ee7e03"
      },
      "execution_count": 2,
      "outputs": [
        {
          "output_type": "stream",
          "name": "stdout",
          "text": [
            "Collecting aubio\n",
            "  Downloading aubio-0.4.9.tar.gz (479 kB)\n",
            "\u001b[2K     \u001b[90m━━━━━━━━━━━━━━━━━━━━━━━━━━━━━━━━━━━━━━━━\u001b[0m \u001b[32m479.0/479.0 kB\u001b[0m \u001b[31m8.4 MB/s\u001b[0m eta \u001b[36m0:00:00\u001b[0m\n",
            "\u001b[?25h  Preparing metadata (setup.py) ... \u001b[?25l\u001b[?25hdone\n",
            "Requirement already satisfied: numpy in /usr/local/lib/python3.10/dist-packages (from aubio) (1.25.2)\n",
            "Building wheels for collected packages: aubio\n",
            "  Building wheel for aubio (setup.py) ... \u001b[?25l\u001b[?25hdone\n",
            "  Created wheel for aubio: filename=aubio-0.4.9-cp310-cp310-linux_x86_64.whl size=425256 sha256=4394e7ea2c7619e86ac613adaa38008f2db162591dbdbe5b451977db4683f49c\n",
            "  Stored in directory: /root/.cache/pip/wheels/00/30/30/a06fe7e9c7fe740486c219851b2bc1c7ed4a97e9c257efd3d7\n",
            "Successfully built aubio\n",
            "Installing collected packages: aubio\n",
            "Successfully installed aubio-0.4.9\n"
          ]
        }
      ]
    },
    {
      "cell_type": "code",
      "execution_count": 3,
      "metadata": {
        "id": "NaB_zZwAcQgb"
      },
      "outputs": [],
      "source": [
        "import aubio\n",
        "import numpy as np"
      ]
    },
    {
      "cell_type": "code",
      "source": [
        "# 设置参数\n",
        "win_s = 512           # FFT窗口大小\n",
        "hop_s = 256           # 跳跃大小\n",
        "samplerate = 44100    # 采样率\n"
      ],
      "metadata": {
        "id": "BpUHDoR6cp4p"
      },
      "execution_count": 4,
      "outputs": []
    },
    {
      "cell_type": "code",
      "source": [
        "# 创建一个 downbeat 检测对象\n",
        "downbeat_o = aubio.tempo(\"specdiff\", win_s, hop_s, samplerate)\n",
        "downbeat_o.set_silence(-40)\n"
      ],
      "metadata": {
        "id": "O35ToNuJcx2O"
      },
      "execution_count": 5,
      "outputs": []
    },
    {
      "cell_type": "code",
      "source": [
        "\n",
        "# 打开音频文件\n",
        "filename = 'gMH_sFM_c01_d24_mMH0_ch15.mp3'\n",
        "s = aubio.source(filename, samplerate, hop_s)\n",
        "\n"
      ],
      "metadata": {
        "id": "FJmF4VI2c1j5"
      },
      "execution_count": 6,
      "outputs": []
    },
    {
      "cell_type": "code",
      "source": [
        "# 读取音频数据并检测 downbeat\n",
        "total_frames = 0\n",
        "while True:\n",
        "    samples, read = s()\n",
        "    if downbeat_o(samples):\n",
        "        print(f\"Downbeat detected at {total_frames / float(samplerate)}s\")\n",
        "    total_frames += read\n",
        "    if read < hop_s:\n",
        "        break\n"
      ],
      "metadata": {
        "colab": {
          "base_uri": "https://localhost:8080/"
        },
        "id": "BsKxTpxUc9k-",
        "outputId": "6a68825a-2fa4-4b07-9cc9-eb9fa78581d9"
      },
      "execution_count": 7,
      "outputs": [
        {
          "output_type": "stream",
          "name": "stdout",
          "text": [
            "Downbeat detected at 1.5267120181405895s\n",
            "Downbeat detected at 1.8982312925170068s\n",
            "Downbeat detected at 2.269750566893424s\n",
            "Downbeat detected at 2.641269841269841s\n",
            "Downbeat detected at 3.0243990929705213s\n",
            "Downbeat detected at 3.3959183673469386s\n",
            "Downbeat detected at 3.767437641723356s\n",
            "Downbeat detected at 4.138956916099773s\n",
            "Downbeat detected at 4.527891156462585s\n",
            "Downbeat detected at 4.899410430839002s\n",
            "Downbeat detected at 5.270929705215419s\n",
            "Downbeat detected at 5.642448979591837s\n",
            "Downbeat detected at 6.0081632653061225s\n",
            "Downbeat detected at 6.379682539682539s\n",
            "Downbeat detected at 6.745396825396825s\n",
            "Downbeat detected at 7.116916099773243s\n",
            "Downbeat detected at 7.883174603174603s\n",
            "Downbeat detected at 8.25469387755102s\n",
            "Downbeat detected at 8.620408163265306s\n",
            "Downbeat detected at 9.02095238095238s\n",
            "Downbeat detected at 9.392471655328798s\n",
            "Downbeat detected at 9.763990929705216s\n",
            "Downbeat detected at 10.135510204081633s\n",
            "Downbeat detected at 10.518639455782314s\n",
            "Downbeat detected at 10.884353741496598s\n",
            "Downbeat detected at 11.255873015873016s\n",
            "Downbeat detected at 11.627392290249434s\n",
            "Downbeat detected at 12.016326530612245s\n",
            "Downbeat detected at 12.387845804988663s\n",
            "Downbeat detected at 12.759365079365079s\n",
            "Downbeat detected at 13.130884353741497s\n",
            "Downbeat detected at 13.519818594104308s\n",
            "Downbeat detected at 13.891337868480726s\n",
            "Downbeat detected at 14.262857142857143s\n",
            "Downbeat detected at 14.63437641723356s\n",
            "Downbeat detected at 15.017505668934241s\n",
            "Downbeat detected at 15.389024943310657s\n",
            "Downbeat detected at 15.760544217687075s\n",
            "Downbeat detected at 16.13206349206349s\n",
            "Downbeat detected at 16.520997732426302s\n",
            "Downbeat detected at 16.88671201814059s\n",
            "Downbeat detected at 17.258231292517006s\n",
            "Downbeat detected at 17.629750566893424s\n",
            "Downbeat detected at 17.99546485260771s\n",
            "Downbeat detected at 18.36698412698413s\n",
            "Downbeat detected at 18.738503401360543s\n",
            "Downbeat detected at 19.10421768707483s\n",
            "Downbeat detected at 20.25360544217687s\n",
            "Downbeat detected at 20.619319727891156s\n",
            "Downbeat detected at 21.01986394557823s\n",
            "Downbeat detected at 21.391383219954648s\n",
            "Downbeat detected at 21.762902494331065s\n",
            "Downbeat detected at 22.128616780045352s\n",
            "Downbeat detected at 22.482721088435373s\n",
            "Downbeat detected at 22.85424036281179s\n",
            "Downbeat detected at 23.591473922902495s\n",
            "Downbeat detected at 23.95718820861678s\n",
            "Downbeat detected at 24.3287074829932s\n",
            "Downbeat detected at 25.518730158730158s\n",
            "Downbeat detected at 25.884444444444444s\n",
            "Downbeat detected at 26.255963718820862s\n",
            "Downbeat detected at 26.62748299319728s\n",
            "Downbeat detected at 26.993197278911566s\n",
            "Downbeat detected at 27.35891156462585s\n",
            "Downbeat detected at 27.730430839002267s\n",
            "Downbeat detected at 28.101950113378685s\n",
            "Downbeat detected at 28.514104308390024s\n",
            "Downbeat detected at 28.88562358276644s\n",
            "Downbeat detected at 29.251337868480725s\n",
            "Downbeat detected at 29.622857142857143s\n",
            "Downbeat detected at 29.982766439909298s\n",
            "Downbeat detected at 30.354285714285716s\n",
            "Downbeat detected at 31.091519274376417s\n",
            "Downbeat detected at 31.51528344671202s\n",
            "Downbeat detected at 31.880997732426305s\n",
            "Downbeat detected at 32.25251700680272s\n",
            "Downbeat detected at 32.61823129251701s\n",
            "Downbeat detected at 32.98394557823129s\n",
            "Downbeat detected at 33.349659863945575s\n",
            "Downbeat detected at 33.72117913832199s\n",
            "Downbeat detected at 34.81832199546485s\n",
            "Downbeat detected at 35.18403628117914s\n",
            "Downbeat detected at 35.54975056689342s\n",
            "Downbeat detected at 35.91546485260771s\n",
            "Downbeat detected at 36.281179138321995s\n",
            "Downbeat detected at 36.65269841269841s\n",
            "Downbeat detected at 37.018412698412696s\n",
            "Downbeat detected at 37.384126984126986s\n",
            "Downbeat detected at 37.74984126984127s\n"
          ]
        }
      ]
    }
  ]
}