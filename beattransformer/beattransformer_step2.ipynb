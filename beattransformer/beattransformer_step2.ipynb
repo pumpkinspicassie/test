{
 "cells": [
  {
   "cell_type": "markdown",
   "metadata": {},
   "source": [
    "this code needs to run in the venv beattrack python 3.11.9, as the madmom files ahve been edited to complied in this environment"
   ]
  },
  {
   "cell_type": "code",
   "execution_count": 30,
   "metadata": {},
   "outputs": [
    {
     "name": "stdout",
     "output_type": "stream",
     "text": [
      "Collecting torch\n",
      "  Using cached torch-2.2.2-cp311-none-macosx_10_9_x86_64.whl.metadata (25 kB)\n",
      "Collecting torchvision\n",
      "  Using cached torchvision-0.17.2-cp311-cp311-macosx_10_13_x86_64.whl.metadata (6.6 kB)\n",
      "Collecting torchaudio\n",
      "  Using cached torchaudio-2.2.2-cp311-cp311-macosx_10_13_x86_64.whl.metadata (6.4 kB)\n",
      "Requirement already satisfied: filelock in /opt/anaconda3/envs/beattrack/lib/python3.11/site-packages (from torch) (3.14.0)\n",
      "Requirement already satisfied: typing-extensions>=4.8.0 in /opt/anaconda3/envs/beattrack/lib/python3.11/site-packages (from torch) (4.11.0)\n",
      "Requirement already satisfied: sympy in /opt/anaconda3/envs/beattrack/lib/python3.11/site-packages (from torch) (1.12.1)\n",
      "Requirement already satisfied: networkx in /opt/anaconda3/envs/beattrack/lib/python3.11/site-packages (from torch) (3.3)\n",
      "Requirement already satisfied: jinja2 in /opt/anaconda3/envs/beattrack/lib/python3.11/site-packages (from torch) (3.1.4)\n",
      "Requirement already satisfied: fsspec in /opt/anaconda3/envs/beattrack/lib/python3.11/site-packages (from torch) (2024.5.0)\n",
      "Requirement already satisfied: numpy in /opt/anaconda3/envs/beattrack/lib/python3.11/site-packages (from torchvision) (1.26.4)\n",
      "Requirement already satisfied: pillow!=8.3.*,>=5.3.0 in /opt/anaconda3/envs/beattrack/lib/python3.11/site-packages (from torchvision) (10.3.0)\n",
      "Requirement already satisfied: MarkupSafe>=2.0 in /opt/anaconda3/envs/beattrack/lib/python3.11/site-packages (from jinja2->torch) (2.1.5)\n",
      "Requirement already satisfied: mpmath<1.4.0,>=1.1.0 in /opt/anaconda3/envs/beattrack/lib/python3.11/site-packages (from sympy->torch) (1.3.0)\n",
      "Using cached torch-2.2.2-cp311-none-macosx_10_9_x86_64.whl (150.8 MB)\n",
      "Using cached torchvision-0.17.2-cp311-cp311-macosx_10_13_x86_64.whl (1.7 MB)\n",
      "Using cached torchaudio-2.2.2-cp311-cp311-macosx_10_13_x86_64.whl (3.4 MB)\n",
      "Installing collected packages: torch, torchvision, torchaudio\n",
      "Successfully installed torch-2.2.2 torchaudio-2.2.2 torchvision-0.17.2\n",
      "Note: you may need to restart the kernel to use updated packages.\n"
     ]
    }
   ],
   "source": [
    "pip install torch torchvision torchaudio"
   ]
  },
  {
   "cell_type": "code",
   "execution_count": 3,
   "metadata": {},
   "outputs": [
    {
     "name": "stdout",
     "output_type": "stream",
     "text": [
      "Module path: /Users/cassielu/Beat-Transformer/code\n"
     ]
    }
   ],
   "source": [
    "import os\n",
    "# 设置模块路径\n",
    "module_path = os.path.abspath(os.path.join('/Users', 'cassielu', 'Beat-Transformer', 'code'))\n",
    "print(\"Module path:\", module_path)\n"
   ]
  },
  {
   "cell_type": "code",
   "execution_count": 5,
   "metadata": {},
   "outputs": [
    {
     "name": "stdout",
     "output_type": "stream",
     "text": [
      "Adding path to sys.path: /Users/cassielu/Beat-Transformer/code\n",
      "Files in the module directory: ['train.sh', 'DilatedTransformerLayer.py', 'eight_fold_test.py', 'DilatedTransformer.py', '__pycache__', 'spectrogram_dataset.py', 'ablation_models', 'utils.py', 'train.py', 'optimizer.py', 'visiualize_attention.py']\n"
     ]
    }
   ],
   "source": [
    "# 检查并添加模块路径\n",
    "import sys\n",
    "if module_path not in sys.path:\n",
    "    print(f\"Adding path to sys.path: {module_path}\")\n",
    "    sys.path.append(module_path)\n",
    "else:\n",
    "    print(f\"Path is already in sys.path: {module_path}\")\n",
    "\n",
    "# 检查模块路径是否存在并列出其中的文件\n",
    "if os.path.exists(module_path):\n",
    "    print(\"Files in the module directory:\", os.listdir(module_path))\n",
    "else:\n",
    "    print(f\"Module path does not exist: {module_path}\")\n"
   ]
  },
  {
   "cell_type": "code",
   "execution_count": 6,
   "metadata": {},
   "outputs": [],
   "source": [
    "from DilatedTransformer import Demixed_DilatedTransformerModel"
   ]
  },
  {
   "cell_type": "code",
   "execution_count": 8,
   "metadata": {},
   "outputs": [],
   "source": [
    "import numpy as np\n",
    "\n",
    "# 原始代码\n",
    "np.float = float    \n",
    "np.int = int   # module 'numpy' has no attribute 'int'\n",
    "np.object = object    # module 'numpy' has no attribute 'object'\n",
    "np.bool = bool    # module 'numpy' has no attribute 'bool'\n",
    "\n"
   ]
  },
  {
   "cell_type": "code",
   "execution_count": 9,
   "metadata": {},
   "outputs": [],
   "source": [
    "import IPython.display as ipd\n",
    "import librosa\n",
    "import torch"
   ]
  },
  {
   "cell_type": "code",
   "execution_count": 10,
   "metadata": {},
   "outputs": [],
   "source": [
    "from madmom.features.beats import DBNBeatTrackingProcessor\n",
    "from madmom.features.downbeats import DBNDownBeatTrackingProcessor\n"
   ]
  },
  {
   "cell_type": "code",
   "execution_count": 11,
   "metadata": {},
   "outputs": [],
   "source": [
    "#Initialize Beat Transformer to estimate (down-)beat activation from demixed input\n",
    "model = Demixed_DilatedTransformerModel(attn_len=5, instr=5, ntoken=2,\n",
    "                                        dmodel=256, nhead=8, d_hid=1024,\n",
    "                                        nlayers=9,  norm_first=True)\n",
    "PARAM_PATH = {\n",
    "    0: \"/Users/cassielu/Beat-Transformer/checkpoint/fold_0_trf_param.pt\",\n",
    "    1: \"/Users/cassielu/Beat-Transformer/checkpoint/fold_1_trf_param.pt\",\n",
    "    2: \"/Users/cassielu/Beat-Transformer/checkpoint/fold_2_trf_param.pt\",\n",
    "    3: \"/Users/cassielu/Beat-Transformer/checkpoint/fold_3_trf_param.pt\",\n",
    "    4: \"/Users/cassielu/Beat-Transformer/checkpoint/fold_4_trf_param.pt\",\n",
    "    5: \"/Users/cassielu/Beat-Transformer/checkpoint/fold_5_trf_param.pt\",\n",
    "    6: \"/Users/cassielu/Beat-Transformer/checkpoint/fold_6_trf_param.pt\",\n",
    "    7: \"/Users/cassielu/Beat-Transformer/checkpoint/fold_7_trf_param.pt\"\n",
    "}\n",
    "\n",
    "#Initialize DBN Beat Tracker to locate beats from beat activation\n",
    "beat_tracker = DBNBeatTrackingProcessor(min_bpm=55.0, max_bpm=215.0, fps=44100/1024,\n",
    "                                        transition_lambda=100, observation_lambda=6,\n",
    "                                        num_tempi=None, threshold=0.2)\n",
    "\n",
    "#Initialize DBN Downbeat Tracker to locate downbeats from downbeat activation\n",
    "downbeat_tracker = DBNDownBeatTrackingProcessor(beats_per_bar=[3, 4],\n",
    "                                                min_bpm=55.0, max_bpm=215.0, fps=44100/1024,\n",
    "                                                transition_lambda=100, observation_lambda=6,\n",
    "                                                num_tempi=None, threshold=0.2)"
   ]
  },
  {
   "cell_type": "code",
   "execution_count": 12,
   "metadata": {},
   "outputs": [
    {
     "name": "stdout",
     "output_type": "stream",
     "text": [
      "PyTorch version: 2.2.2\n",
      "CUDA available: False\n",
      "CUDA version: None\n"
     ]
    }
   ],
   "source": [
    "# 打印PyTorch版本\n",
    "print(\"PyTorch version:\", torch.__version__)\n",
    "\n",
    "# 检查CUDA是否可用\n",
    "print(\"CUDA available:\", torch.cuda.is_available())\n",
    "\n",
    "# 查看CUDA版本\n",
    "print(\"CUDA version:\", torch.version.cuda)"
   ]
  },
  {
   "cell_type": "code",
   "execution_count": 13,
   "metadata": {},
   "outputs": [],
   "source": [
    "# 加载保存的数组\n",
    "x = np.load('/Users/cassielu/Desktop/testdance/test1/sleepter/processed_array.npy')\n"
   ]
  },
  {
   "cell_type": "code",
   "execution_count": 14,
   "metadata": {},
   "outputs": [
    {
     "name": "stderr",
     "output_type": "stream",
     "text": [
      "/opt/anaconda3/envs/beattrack/lib/python3.11/site-packages/madmom/features/beats_hmm.py:631: RuntimeWarning: divide by zero encountered in log\n",
      "  log_densities[:, 1] = np.log(observations[:, 0])\n"
     ]
    }
   ],
   "source": [
    "\n",
    "FOLD = 3\n",
    "model.load_state_dict(torch.load(PARAM_PATH[FOLD], map_location=torch.device('cpu'))['state_dict'])\n",
    "# 删除这行与GPU相关的代码\n",
    "# model.cuda()\n",
    "model.eval()\n",
    "\n",
    "with torch.no_grad():\n",
    "    # 修改这行代码以在CPU上运行\n",
    "    model_input = torch.from_numpy(x).unsqueeze(0).float()\n",
    "    activation, _ = model(model_input)\n",
    "\n",
    "beat_activation = torch.sigmoid(activation[0, :, 0]).detach().numpy()\n",
    "downbeat_activation = torch.sigmoid(activation[0, :, 1]).detach().numpy()\n",
    "dbn_beat_pred = beat_tracker(beat_activation)\n",
    "\n",
    "combined_act = np.concatenate((np.maximum(beat_activation - downbeat_activation,\n",
    "                                          np.zeros(beat_activation.shape)\n",
    "                                          )[:, np.newaxis],\n",
    "                              downbeat_activation[:, np.newaxis]\n",
    "                               ), axis=-1)   #(T, 2)\n",
    "dbn_downbeat_pred = downbeat_tracker(combined_act)\n",
    "dbn_downbeat_pred = dbn_downbeat_pred[dbn_downbeat_pred[:, 1]==1][:, 0]"
   ]
  },
  {
   "cell_type": "code",
   "execution_count": 34,
   "metadata": {},
   "outputs": [
    {
     "name": "stdout",
     "output_type": "stream",
     "text": [
      "DBN Beat Predictions: [ 0.39473923  0.7662585   1.13777778  1.50929705  1.85759637  2.2523356\n",
      "  2.62385488  3.0185941   3.39011338  3.76163265  4.13315193  4.52789116\n",
      "  4.89941043  5.27092971  5.64244898  6.03718821  6.38548753  6.78022676\n",
      "  7.12852608  7.52326531  7.89478458  8.26630385  8.61460317  9.0093424\n",
      "  9.38086168  9.75238095 10.14712018 10.51863946 10.89015873 11.28489796\n",
      " 11.63319728 12.02793651 12.39945578 12.77097506 13.14249433 13.51401361\n",
      " 13.88553288 14.25705215 14.62857143 15.0000907  15.37160998 15.76634921\n",
      " 16.16108844 16.53260771 16.90412698 17.27564626 17.64716553 18.01868481\n",
      " 18.39020408 18.78494331 19.13324263 19.52798186 19.89950113 20.27102041\n",
      " 20.61931973 21.03727891 21.38557823 21.78031746 22.15183673 22.52335601\n",
      " 22.89487528 23.26639456 23.63791383 24.00943311 24.38095238 24.75247166\n",
      " 25.12399093 25.4955102  25.86702948 26.23854875 26.63328798 27.00480726\n",
      " 27.39954649 27.77106576 28.14258503 28.53732426 28.90884354 29.28036281\n",
      " 29.65188209 30.02340136 30.39492063 30.76643991 31.13795918 31.50947846\n",
      " 31.88099773 32.25251701 32.64725624 33.01877551 33.39029478 33.78503401\n",
      " 34.13333333 34.52807256 34.87637188 35.27111111 35.61941043 36.03736961\n",
      " 36.38566893 36.75718821 37.15192744 37.52344671 37.87174603 38.26648526\n",
      " 38.61478458 38.98630385 39.33460317 39.7293424  40.10086168 40.47238095\n",
      " 40.82068027 41.23863946 41.56371882 41.95845805 42.30675737 42.7014966\n",
      " 43.09623583 43.4677551  43.83927438]\n",
      "DBN Downbeat Predictions: [ 0.39473923  1.85759637  3.39011338  4.87619048  6.40870748  7.89478458\n",
      "  9.38086168 10.89015873 12.39945578 13.88553288 15.39482993 16.90412698\n",
      " 18.39020408 19.89950113 21.38557823 22.89487528 24.38095238 25.86702948\n",
      " 27.37632653 28.90884354 30.39492063 31.85777778 33.39029478 34.87637188\n",
      " 36.38566893 37.89496599 39.33460317 40.82068027 42.30675737 43.86249433]\n"
     ]
    }
   ],
   "source": [
    "# 打印DBN预测结果\n",
    "print(\"DBN Beat Predictions:\", dbn_beat_pred)\n",
    "print(\"DBN Downbeat Predictions:\", dbn_downbeat_pred)"
   ]
  }
 ],
 "metadata": {
  "kernelspec": {
   "display_name": "beattrack",
   "language": "python",
   "name": "python3"
  },
  "language_info": {
   "codemirror_mode": {
    "name": "ipython",
    "version": 3
   },
   "file_extension": ".py",
   "mimetype": "text/x-python",
   "name": "python",
   "nbconvert_exporter": "python",
   "pygments_lexer": "ipython3",
   "version": "3.11.9"
  }
 },
 "nbformat": 4,
 "nbformat_minor": 2
}
