{
 "cells": [
  {
   "cell_type": "code",
   "execution_count": 1,
   "metadata": {},
   "outputs": [
    {
     "name": "stdout",
     "output_type": "stream",
     "text": [
      "Requirement already satisfied: pydub in /opt/anaconda3/envs/beattrack/lib/python3.11/site-packages (0.25.1)\n",
      "Note: you may need to restart the kernel to use updated packages.\n"
     ]
    }
   ],
   "source": [
    "pip install pydub\n"
   ]
  },
  {
   "cell_type": "code",
   "execution_count": 2,
   "metadata": {},
   "outputs": [
    {
     "name": "stdout",
     "output_type": "stream",
     "text": [
      "Converted /Users/cassielu/Desktop/testdance/test1/gMH_sFM_c01_d24_mMH0_ch15.mp3 to /Users/cassielu/Desktop/testdance/test1/gMH_sFM_c01_d24_mMH0_ch15.wav\n"
     ]
    }
   ],
   "source": [
    "from pydub import AudioSegment\n",
    "\n",
    "# 输入 MP3 文件路径\n",
    "mp3_file = '/Users/cassielu/Desktop/testdance/test1/gMH_sFM_c01_d24_mMH0_ch15.mp3'\n",
    "# 输出 WAV 文件路径\n",
    "wav_file = '/Users/cassielu/Desktop/testdance/test1/gMH_sFM_c01_d24_mMH0_ch15.wav'\n",
    "\n",
    "# 加载 MP3 文件\n",
    "audio = AudioSegment.from_mp3(mp3_file)\n",
    "# 导出为 WAV 文件\n",
    "audio.export(wav_file, format='wav')\n",
    "\n",
    "print(f\"Converted {mp3_file} to {wav_file}\")\n"
   ]
  }
 ],
 "metadata": {
  "kernelspec": {
   "display_name": "beattrack",
   "language": "python",
   "name": "python3"
  },
  "language_info": {
   "codemirror_mode": {
    "name": "ipython",
    "version": 3
   },
   "file_extension": ".py",
   "mimetype": "text/x-python",
   "name": "python",
   "nbconvert_exporter": "python",
   "pygments_lexer": "ipython3",
   "version": "3.11.9"
  }
 },
 "nbformat": 4,
 "nbformat_minor": 2
}
